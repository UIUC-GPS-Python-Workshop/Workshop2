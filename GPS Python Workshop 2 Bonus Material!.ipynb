{
 "cells": [
  {
   "cell_type": "markdown",
   "metadata": {
    "collapsed": true
   },
   "source": [
    "# Table of Contents\n",
    "* [More practice with lists](#More-practice-with-lists)\n",
    "* [Tuples](#Tuples)\n",
    "* [Selection tricks and more practice with NumPy arrays](#Selection-tricks-and-more-practice-with-NumPy-arrays)\n",
    "* [Navigating around your filesystem in Python](#Navigating-around-your-filesystem-in-Python)\n",
    "\n",
    "\n",
    "## More practice with lists\n",
    "\n",
    "Problem 1: Create a list of lists [[1], [1, 2], [1, 2, 3], ...] going all the way to a list of size 15."
   ]
  },
  {
   "cell_type": "code",
   "execution_count": null,
   "metadata": {
    "collapsed": true
   },
   "outputs": [],
   "source": [
    "# your code here"
   ]
  },
  {
   "cell_type": "markdown",
   "metadata": {},
   "source": [
    "Problem 2: Create a list of numbers and their squares [[1, 1], [2, 4], [3,9]... [100, 10000]] going all the way to 100."
   ]
  },
  {
   "cell_type": "code",
   "execution_count": null,
   "metadata": {
    "collapsed": true
   },
   "outputs": [],
   "source": [
    "# your code here"
   ]
  },
  {
   "cell_type": "markdown",
   "metadata": {},
   "source": [
    "Problem 3: Reorder the out-of-order list below using only slicing and concatenating. Don't call sort!"
   ]
  },
  {
   "cell_type": "code",
   "execution_count": null,
   "metadata": {
    "collapsed": true
   },
   "outputs": [],
   "source": [
    "out_of_order_list = [1, 2, 3, 6, 7, 8, 4, 5, 9, 10]\n",
    "# your code here"
   ]
  },
  {
   "cell_type": "markdown",
   "metadata": {},
   "source": [
    "Problem 4: Make a list of squares from 1-10k, except without any numbers from 5k-7k."
   ]
  },
  {
   "cell_type": "code",
   "execution_count": null,
   "metadata": {
    "collapsed": true
   },
   "outputs": [],
   "source": [
    "# your code here"
   ]
  },
  {
   "cell_type": "markdown",
   "metadata": {},
   "source": [
    "## Tuples\n",
    "\n",
    "There's a very common python datatype I didn't cover in the main lesson called a tuple. It's a lot like a list except once you make a tuple, you can't change any items inside it, add new items to it, or remove items from it. But it can hold arbitrary data like a list, be sliced like a list, etc. The restrictions on changing tuples don't make them worse than lists, but different. Sometimes you want to ensure that you don't accidentally change items in a collection or add or subtract items from it. Tuples look like this."
   ]
  },
  {
   "cell_type": "code",
   "execution_count": null,
   "metadata": {
    "collapsed": false
   },
   "outputs": [],
   "source": [
    "a_tuple = (1, 3, 5, 7)\n",
    "another_tuple = ('dog', 4, 'cat', (7, 3), [2, 8, 5])\n",
    "print(a_tuple)\n",
    "print(another_tuple)"
   ]
  },
  {
   "cell_type": "markdown",
   "metadata": {},
   "source": [
    "Strictly speaking, the parentheses aren't necessary; however, they are mostly conventional and make reading the code easier, so use them. Also, it's important that although you can't change individual items in a tuple, you can reassign a tuple to an entirely new value. Also, if some of the items inside a tuple are what is called *mutable* (like a list) they can have parts of them changed. So the folowing things are allowed,"
   ]
  },
  {
   "cell_type": "code",
   "execution_count": null,
   "metadata": {
    "collapsed": false
   },
   "outputs": [],
   "source": [
    "print('a_tuple was', a_tuple)\n",
    "a_tuple = (2, 4, 6)\n",
    "print('a_tuple is now', a_tuple)\n",
    "print('another_tuple was', another_tuple)\n",
    "another_tuple[4].append(3)\n",
    "print('another_tuple is now', another_tuple)"
   ]
  },
  {
   "cell_type": "markdown",
   "metadata": {},
   "source": [
    "But these operations are not allowed:"
   ]
  },
  {
   "cell_type": "code",
   "execution_count": null,
   "metadata": {
    "collapsed": false
   },
   "outputs": [],
   "source": [
    "a_tuple[0] = 1"
   ]
  },
  {
   "cell_type": "code",
   "execution_count": null,
   "metadata": {
    "collapsed": false
   },
   "outputs": [],
   "source": [
    "another_tuple[4] = [2, 8, 5]"
   ]
  },
  {
   "cell_type": "markdown",
   "metadata": {},
   "source": [
    "### Some exercises with tuples\n",
    "Problem 1: Make a list of tuples of an integer and its square for the integers from 0 to 10 (including 10)."
   ]
  },
  {
   "cell_type": "code",
   "execution_count": null,
   "metadata": {
    "collapsed": true
   },
   "outputs": [],
   "source": [
    "# your code here"
   ]
  },
  {
   "cell_type": "markdown",
   "metadata": {},
   "source": [
    "Problem 2: Make a tuple of numpy arrays where the arrays are the unit vectors of R^3"
   ]
  },
  {
   "cell_type": "code",
   "execution_count": null,
   "metadata": {
    "collapsed": true
   },
   "outputs": [],
   "source": [
    "# your code here"
   ]
  },
  {
   "cell_type": "markdown",
   "metadata": {},
   "source": [
    "### The zip function"
   ]
  },
  {
   "cell_type": "markdown",
   "metadata": {},
   "source": [
    "A useful function in python that can turn a pair of lists into a list of tuples is (zip). It works like this:"
   ]
  },
  {
   "cell_type": "code",
   "execution_count": null,
   "metadata": {
    "collapsed": false
   },
   "outputs": [],
   "source": [
    "range10 = list(range(10))\n",
    "range10squares = [i*i for i in range10]\n",
    "zipItUp = list(zip(range10,range10squares))\n",
    "print('range10 is', range10)\n",
    "print('range10squares is', range10squares)\n",
    "print('zipItUp is', zipItUp)"
   ]
  },
  {
   "cell_type": "markdown",
   "metadata": {},
   "source": [
    "The zip function can also be used to turn a list of tuples into a pair of tuples by first putting an asterisk in front of the list of pairs of tuples to be undone"
   ]
  },
  {
   "cell_type": "code",
   "execution_count": null,
   "metadata": {
    "collapsed": false
   },
   "outputs": [],
   "source": [
    "print(*zipItUp)\n",
    "range10_as_tuple, range10squares_as_tuple = zip(*zipItUp)\n",
    "print('range10_as_tuple is',range10_as_tuple)\n",
    "print('range10squares_as_tuple is',range10squares_as_tuple)"
   ]
  },
  {
   "cell_type": "markdown",
   "metadata": {},
   "source": [
    "## Selection tricks and more practice with NumPy arrays\n",
    "\n",
    "Numpy arrays can be indexed in fancier ways than lists. You can put another matrix of trues and falses in the same shape in that is an array to select out certain elements. The resulting array will be one dimensional. For example,"
   ]
  },
  {
   "cell_type": "code",
   "execution_count": null,
   "metadata": {
    "collapsed": false
   },
   "outputs": [],
   "source": [
    "import numpy as np\n",
    "\n",
    "a = np.arange(9).reshape((3,3))\n",
    "print('a is\\n', a)\n",
    "takes = np.array([[False, True, False],\n",
    "                  [True, False, True],\n",
    "                  [False, True, False]])\n",
    "print('a[takes] is', a[takes])"
   ]
  },
  {
   "cell_type": "markdown",
   "metadata": {},
   "source": [
    "This feature is useful for doing things like this."
   ]
  },
  {
   "cell_type": "code",
   "execution_count": null,
   "metadata": {
    "collapsed": false
   },
   "outputs": [],
   "source": [
    "arange20=np.arange(20)\n",
    "evens =arange20[arange20%2==0]\n",
    "print('arange20 is', arange20)\n",
    "print('evens is', evens)"
   ]
  },
  {
   "cell_type": "markdown",
   "metadata": {},
   "source": [
    "Problem 1: Remove all data points from data which are 2 standard deviations or more outside the mean."
   ]
  },
  {
   "cell_type": "code",
   "execution_count": null,
   "metadata": {
    "collapsed": true
   },
   "outputs": [],
   "source": [
    "np.random.seed(42)\n",
    "data = np.random.normal(5, 1, 100)\n",
    "#your code here"
   ]
  },
  {
   "cell_type": "markdown",
   "metadata": {},
   "source": [
    "Problem: Turn an array of numbers [0, 1, 2... 99] into an array of pairs [[0, 1], [2, 3]... [98, 99]]."
   ]
  },
  {
   "cell_type": "code",
   "execution_count": null,
   "metadata": {
    "collapsed": true
   },
   "outputs": [],
   "source": [
    "a = np.arange(100)\n",
    "# your code here"
   ]
  },
  {
   "cell_type": "markdown",
   "metadata": {},
   "source": [
    "Problem: Take an array of size 500 and reverse the order of numbers 100 through 300."
   ]
  },
  {
   "cell_type": "code",
   "execution_count": null,
   "metadata": {
    "collapsed": true
   },
   "outputs": [],
   "source": [
    "a = np.arange(500)\n",
    "# your code here"
   ]
  },
  {
   "cell_type": "markdown",
   "metadata": {},
   "source": [
    "Problem: Replace the negative numbers in badData with zeros."
   ]
  },
  {
   "cell_type": "code",
   "execution_count": null,
   "metadata": {
    "collapsed": true
   },
   "outputs": [],
   "source": [
    "np.random.seed(42)\n",
    "badData = (np.random.rand(10, 10)*20-3).astype(int)\n",
    "# your code here"
   ]
  },
  {
   "cell_type": "markdown",
   "metadata": {},
   "source": [
    "Problem: Now replace the negative numbers in badData with the numbers in the same position in replacementData. "
   ]
  },
  {
   "cell_type": "code",
   "execution_count": null,
   "metadata": {
    "collapsed": true
   },
   "outputs": [],
   "source": [
    "np.random.seed(42)\n",
    "badData = (np.random.rand(10, 10)*20-3).astype(int)\n",
    "replacementData = (np.random.rand(10, 10)*20).astype(int)\n",
    "# your code here"
   ]
  },
  {
   "cell_type": "markdown",
   "metadata": {},
   "source": [
    "Problem: Each entry in data is in the form [time, measurement]. How much higher is the average measurement from t=10 to t=20 than it is from t=0 to t=10?"
   ]
  },
  {
   "cell_type": "code",
   "execution_count": null,
   "metadata": {
    "collapsed": true
   },
   "outputs": [],
   "source": [
    "np.random.seed(42)\n",
    "times = np.sort(np.random.rand(100)*20)\n",
    "measurements = np.arange(100)/20.0 + np.random.normal(0, 2.0, 100)\n",
    "data = np.array(zip(times, measurements))\n",
    "# your code here"
   ]
  },
  {
   "cell_type": "markdown",
   "metadata": {},
   "source": [
    "## Navigating around your filesystem in Python\n",
    "\n",
    "You may have wondered how Python finds the files you ask it to open or where it creates the ones you make. The answer is that if you give a filename without a path then by default it makes them in the current directory Python is in. You can also specify file paths in the string of the filename if you want. There is a handy cross platform Python library that can move around your file system in Python as well as doing many other things. It's called os."
   ]
  },
  {
   "cell_type": "code",
   "execution_count": null,
   "metadata": {
    "collapsed": true
   },
   "outputs": [],
   "source": [
    "import os"
   ]
  },
  {
   "cell_type": "markdown",
   "metadata": {},
   "source": [
    "To see what directory your Python interpreter is in use,"
   ]
  },
  {
   "cell_type": "code",
   "execution_count": null,
   "metadata": {
    "collapsed": false
   },
   "outputs": [],
   "source": [
    "print(os.getcwd())"
   ]
  },
  {
   "cell_type": "markdown",
   "metadata": {},
   "source": [
    "To change what directory your Python interpreter is in use"
   ]
  },
  {
   "cell_type": "code",
   "execution_count": null,
   "metadata": {
    "collapsed": true
   },
   "outputs": [],
   "source": [
    "there = # the filepath you want to go to goes here, this should be a string that's a filepath\n",
    "os.chdir(there)\n",
    "print(os.getcwd())"
   ]
  },
  {
   "cell_type": "markdown",
   "metadata": {},
   "source": [
    "To move to the parent directory of your current directory"
   ]
  },
  {
   "cell_type": "code",
   "execution_count": null,
   "metadata": {
    "collapsed": false
   },
   "outputs": [],
   "source": [
    "current_directory = os.getcwd()\n",
    "parent_directory = os.path.split(current_directory)[0]\n",
    "os.chdir(parent_directory)\n",
    "print(os.getcwd())"
   ]
  },
  {
   "cell_type": "markdown",
   "metadata": {},
   "source": [
    "To see what's in your current directory use"
   ]
  },
  {
   "cell_type": "code",
   "execution_count": null,
   "metadata": {
    "collapsed": false
   },
   "outputs": [],
   "source": [
    "# if you put in an argument that's a filepath it'll tell you what is in that directory instead of the current\n",
    "os.listdir()"
   ]
  }
 ],
 "metadata": {
  "kernelspec": {
   "display_name": "Python 3",
   "language": "python",
   "name": "python3"
  },
  "language_info": {
   "codemirror_mode": {
    "name": "ipython",
    "version": 3
   },
   "file_extension": ".py",
   "mimetype": "text/x-python",
   "name": "python",
   "nbconvert_exporter": "python",
   "pygments_lexer": "ipython3",
   "version": "3.5.2"
  }
 },
 "nbformat": 4,
 "nbformat_minor": 1
}
